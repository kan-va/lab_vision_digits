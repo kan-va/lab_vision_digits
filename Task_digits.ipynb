{
  "nbformat": 4,
  "nbformat_minor": 0,
  "metadata": {
    "colab": {
      "name": "Task-digits.ipynb",
      "provenance": [],
      "collapsed_sections": [],
      "authorship_tag": "ABX9TyMa8kaTczh0xagJgimHDTSh",
      "include_colab_link": true
    },
    "kernelspec": {
      "name": "python3",
      "display_name": "Python 3"
    }
  },
  "cells": [
    {
      "cell_type": "markdown",
      "metadata": {
        "id": "view-in-github",
        "colab_type": "text"
      },
      "source": [
        "<a href=\"https://colab.research.google.com/github/kan-va/lab_vision_digits/blob/main/Task_digits.ipynb\" target=\"_parent\"><img src=\"https://colab.research.google.com/assets/colab-badge.svg\" alt=\"Open In Colab\"/></a>"
      ]
    },
    {
      "cell_type": "markdown",
      "metadata": {
        "id": "xccXEvMNfTSo"
      },
      "source": [
        "# Лаборатоная работа по распознаванию рукописных цифр \n"
      ]
    },
    {
      "cell_type": "code",
      "metadata": {
        "colab": {
          "base_uri": "https://localhost:8080/"
        },
        "id": "6HHzdWToot0E",
        "outputId": "253d2c10-3bcd-47b0-e72a-2900080394a7"
      },
      "source": [
        "print(\"Hello student\")  # для запуска блока с кодом нажмите кобинацию клавиш shift + enter, \n",
        "                        # либо на треугольник, при наведении в левом верхнем углу блока кода "
      ],
      "execution_count": 4,
      "outputs": [
        {
          "output_type": "stream",
          "text": [
            "Hello student\n"
          ],
          "name": "stdout"
        }
      ]
    },
    {
      "cell_type": "markdown",
      "metadata": {
        "id": "hJutq-DwhbFq"
      },
      "source": [
        "## Содержание:\n",
        "\n",
        "\n",
        "1.   Введение\n",
        "2.   Основные определения / полезные материалы\n",
        "3.   Разведочный анализ данных (EDA)\n",
        "4.   Подготовка датасета\n",
        "5.   Создание и обучение нейросети\n",
        "6.   Апробация результатов"
      ]
    },
    {
      "cell_type": "markdown",
      "metadata": {
        "id": "Xv_R4jg2jMhY"
      },
      "source": [
        "## Введение\n",
        "\n"
      ]
    },
    {
      "cell_type": "markdown",
      "metadata": {
        "id": "EA9ZwG1fVfIx"
      },
      "source": [
        "В данной работе научимся создавать многослойные нейронные сети для распознавания рукописных цифр.\n",
        "\n",
        "MNIST - это набор данных, разработанный Янн ЛеКун, Коринной Кортес и Кристофером Берджесом для оценки моделей машинного обучения по задаче классификации рукописных цифр. Набор данных был составлен из нескольких наборов данных отсканированных документов, доступных из Национальный институт стандартов и технологий(NIST). Отсюда и название набора данных, например, модифицированный набор данных NIST или MNIST.\n",
        "\n",
        "официальный сайт http://yann.lecun.com/exdb/mnist/ где выложен дата сет MNIST, а так  представлены результаты обучаемых моделей.\n",
        "\n",
        "\n",
        "### Параметры датасета:\n",
        "Изображения цифр были взяты из различных отсканированных документов, нормализованы по размеру и центрированы. Это делает его отличным набором данных для оценки моделей, позволяя разработчику сосредоточиться на машинном обучении с минимальной очисткой или подготовкой данных.\n",
        "\n",
        "Каждое изображение представляет собой квадрат 28 x 28 пикселей. Стандартный набор данных используется для оценки и сравнения моделей, где 60 000 изображений используются для обучения модели, а отдельный набор из 10 000 изображений используется для ее проверки."
      ]
    },
    {
      "cell_type": "markdown",
      "metadata": {
        "id": "WconMloej4aj"
      },
      "source": [
        "## Основные определения / полезные материаллы\n"
      ]
    },
    {
      "cell_type": "markdown",
      "metadata": {
        "id": "d1p10nCLcvr7"
      },
      "source": [
        "#### Определения \n",
        "\n",
        "1. Batch - на маленькие партии из датасета\n",
        "2. Batch Size - Общее число тренировочных объектов, представленных в одном батче.\n",
        "3. Произошла одна эпоха (epoch) — весь датасет прошел через нейронную сеть в прямом и обратном направлении только один раз.\n",
        "4. Loss - \"лосс\" называют функцию потерь \n",
        "5. Итерации — число батчей, необходимых для завершения одной эпохи.\n"
      ]
    },
    {
      "cell_type": "markdown",
      "metadata": {
        "id": "MeQA9PgasKul"
      },
      "source": [
        "#### Дополнительные материалы\n",
        "\n",
        "1.   [Описание работы с полносвязным слоем в keras ](https://habr.com/ru/post/482126/)\n",
        "2.   [Инструкция](https://colab.research.google.com/drive/1gQRDXVm4GFKJPhXfCp6uxoJ8FAHklstx#scrollTo=4x1VwqYcyxr7&line=1&uniqifier=1) подгрузки библиотек, которые не являются предустановленными в colab.google\n",
        "\n",
        "\n",
        "```\n",
        "# !pip install pillow \n",
        "```\n",
        "\n",
        "\n",
        "3. \n"
      ]
    },
    {
      "cell_type": "markdown",
      "metadata": {
        "id": "3nETgKtR1qT0"
      },
      "source": [
        "\n",
        "## Библиотеки необходимы для сосздания нейронной сети."
      ]
    },
    {
      "cell_type": "code",
      "metadata": {
        "id": "5UPS6ap715bS"
      },
      "source": [
        "import tensorflow as tf \n",
        "from tensorflow import keras\n",
        "from tensorflow.keras.datasets import mnist         # библиотека базы Mnist\n",
        "from tensorflow.keras.layers import Dense, Flatten, Dropout\n",
        "from keras.models import Sequential\n",
        "from keras.utils import np_utils\n",
        "import matplotlib.pyplot as plt # библиотка для визуализации данных\n",
        "import seaborn as sns # другая библиотка для визуализации данных\n",
        "# import pandas as pd\n",
        "import numpy as np # библиотека позволяющая работать с векторами и матрицами\n",
        "import random as rand\n",
        "from pprint import pprint\n",
        "\n"
      ],
      "execution_count": 5,
      "outputs": []
    },
    {
      "cell_type": "markdown",
      "metadata": {
        "id": "zh0iQ560kHkl"
      },
      "source": [
        "\n",
        "## Разведочный анализ данных (EDA)"
      ]
    },
    {
      "cell_type": "markdown",
      "metadata": {
        "id": "HThcsnxX4G1B"
      },
      "source": [
        "Подгрузим датасет mnist из библиотеки keras и убедимся что там лежит. \n",
        "\n",
        "x_train[i] - двумерный вектор изображения, \n",
        "\n",
        "y_train[i] - таргет, т.е. значение 0 - 9, соответсвующая цифре на изображении. \n",
        "\n",
        "(x_test, y_test) имеют аналогичную структуру."
      ]
    },
    {
      "cell_type": "code",
      "metadata": {
        "colab": {
          "base_uri": "https://localhost:8080/",
          "height": 455
        },
        "id": "xDk4s3hDEPFh",
        "outputId": "e53941d2-096a-4e03-f381-21357216d6e4"
      },
      "source": [
        "(x_train, y_train), (x_test, y_test) = mnist.load_data() \n",
        "len(mnist.load_data())\n",
        "index = [rand.randint(0, 60000) for i in range(20)] # выберем случайный образом 4 индекса\n",
        "print(\"number image\")\n",
        "pprint([(i, y_train[i])for i in index], compact=True) # выводим красиво значения индекса и y_train\n",
        "\n",
        "# отображение первых 20 изображений из обучающей выборки\n",
        "plt.figure(figsize=(10,7))\n",
        "for i in range(len(index)):\n",
        "    plt.subplot(5,5,i+1)\n",
        "    plt.xticks([]) # убрать отрисовку оси Х\n",
        "    plt.yticks([]) # убрать отрисовку оси У\n",
        "    plt.imshow(x_train[index[i]], cmap=plt.cm.binary) # cmap=plt.get_cmap('gray') - позволяет вывести в градиенте серого\n",
        "plt.show()\n",
        "\n"
      ],
      "execution_count": 6,
      "outputs": [
        {
          "output_type": "stream",
          "text": [
            "Downloading data from https://storage.googleapis.com/tensorflow/tf-keras-datasets/mnist.npz\n",
            "11493376/11490434 [==============================] - 0s 0us/step\n",
            "number image\n",
            "[(17153, 2), (47093, 8), (10543, 5), (49764, 9), (20196, 9), (46301, 9),\n",
            " (19607, 5), (35759, 4), (47906, 7), (38705, 7), (47386, 0), (35829, 1),\n",
            " (32775, 3), (26215, 9), (32505, 3), (46624, 4), (1427, 2), (53695, 5),\n",
            " (39719, 2), (13864, 4)]\n"
          ],
          "name": "stdout"
        },
        {
          "output_type": "display_data",
          "data": {
            "image/png": "[encoded data removed]",
            "text/plain": [
              "<Figure size 720x504 with 20 Axes>"
            ]
          },
          "metadata": {
            "tags": []
          }
        }
      ]
    },
    {
      "cell_type": "markdown",
      "metadata": {
        "id": "Mf25Eh3jq2Qi"
      },
      "source": [
        "Проверяем распределение чисел в тенеровочной и валидационной выборке"
      ]
    },
    {
      "cell_type": "code",
      "metadata": {
        "colab": {
          "base_uri": "https://localhost:8080/",
          "height": 391
        },
        "id": "ReDHZmQWq2_S",
        "outputId": "ec779cdf-38a4-4c64-a085-be079d22f9ea"
      },
      "source": [
        "plt.figure(figsize=(16, 6))\n",
        "plt.subplot(1,2,1)\n",
        "sns.histplot(y_train, kde=False ) # гистограмма тренировочной выборки\n",
        "plt.subplot(1,2,2)\n",
        "sns.histplot(y_test, kde=False) # гистограмма валидационной выборки"
      ],
      "execution_count": 7,
      "outputs": [
        {
          "output_type": "execute_result",
          "data": {
            "text/plain": [
              "<matplotlib.axes._subplots.AxesSubplot at 0x7f2edc12e0b8>"
            ]
          },
          "metadata": {
            "tags": []
          },
          "execution_count": 7
        },
        {
          "output_type": "display_data",
          "data": {
            "image/png": "[encoded data removed]",
            "text/plain": [
              "<Figure size 1152x432 with 2 Axes>"
            ]
          },
          "metadata": {
            "tags": [],
            "needs_background": "light"
          }
        }
      ]
    },
    {
      "cell_type": "markdown",
      "metadata": {
        "id": "CklnFRVTWDoc"
      },
      "source": [
        "## Подготовка датасета"
      ]
    },
    {
      "cell_type": "markdown",
      "metadata": {
        "id": "TqZKx-pa3Ysd"
      },
      "source": [
        "**Подготовка выходных значений**\n",
        "\n",
        "Для полносвязного персептрона входные данные необходимо представить в виде вектора, поэтому представим изобрадение как одномерный массив из 28*28 = 784 элементов\n"
      ]
    },
    {
      "cell_type": "code",
      "metadata": {
        "id": "d23Q2eZJ1uFt"
      },
      "source": [
        "# преобразование изображение 28 х 28 в виде одномерного вектора\n",
        "num_pixels = x_train.shape[1] * x_train.shape[2] # получем размерность по вертикали и горизонтали\n",
        "x_train = x_train.reshape(x_train.shape[0], num_pixels).astype('float32') \n",
        "x_test = x_test.reshape(x_test.shape[0], num_pixels).astype('float32')\n",
        "\n",
        "# нормализуем значения 0 - 255 в 0 - 1\n",
        "x_train = x_train / 255\n",
        "x_test = x_test / 255"
      ],
      "execution_count": 8,
      "outputs": []
    },
    {
      "cell_type": "markdown",
      "metadata": {
        "id": "S0endp_b4GN4"
      },
      "source": [
        "**Подготовка выходных значений**\n",
        "\n",
        "Выходной переменной является целое число от 0 до 9. Это проблема классификации нескольких классов. Таким образом, эффективная практика состоит в том, чтобы использовать горячее кодирование значений класса, преобразовывая вектор целых чисел класса в двоичную матрицу, где каждое значение y_train, y_test представляется как вектор где на i-й позиции, которая сооствует значению цифры на изображении, ставится 1.\n",
        "\n",
        "\n",
        "Используем встроенную вспомогательную функцию np_utils.to_categorical () в Keras."
      ]
    },
    {
      "cell_type": "code",
      "metadata": {
        "id": "lm3bMUUS4T6N"
      },
      "source": [
        "y_train = np_utils.to_categorical(y_train)\n",
        "y_test = np_utils.to_categorical(y_test)\n",
        "num_classes = y_test.shape[1]"
      ],
      "execution_count": 9,
      "outputs": []
    },
    {
      "cell_type": "code",
      "metadata": {
        "colab": {
          "base_uri": "https://localhost:8080/"
        },
        "id": "zDpo33AS67PF",
        "outputId": "7f5996e5-77ae-40e3-b7f0-a20b1e3cc8f4"
      },
      "source": [
        "print(y_test.shape)\n",
        "y_test"
      ],
      "execution_count": 10,
      "outputs": [
        {
          "output_type": "stream",
          "text": [
            "(10000, 10)\n"
          ],
          "name": "stdout"
        },
        {
          "output_type": "execute_result",
          "data": {
            "text/plain": [
              "array([[0., 0., 0., ..., 1., 0., 0.],\n",
              "       [0., 0., 1., ..., 0., 0., 0.],\n",
              "       [0., 1., 0., ..., 0., 0., 0.],\n",
              "       ...,\n",
              "       [0., 0., 0., ..., 0., 0., 0.],\n",
              "       [0., 0., 0., ..., 0., 0., 0.],\n",
              "       [0., 0., 0., ..., 0., 0., 0.]], dtype=float32)"
            ]
          },
          "metadata": {
            "tags": []
          },
          "execution_count": 10
        }
      ]
    },
    {
      "cell_type": "markdown",
      "metadata": {
        "id": "KVVtdC9uWGvp"
      },
      "source": [
        "## Создание и обучение нейросети\n"
      ]
    },
    {
      "cell_type": "markdown",
      "metadata": {
        "id": "-LnWNKsQv_3D"
      },
      "source": [
        "### Полносвязный персептрон"
      ]
    },
    {
      "cell_type": "markdown",
      "metadata": {
        "id": "Ogbshnt25tfa"
      },
      "source": [
        "Модель представляет собой простую нейронную сеть с одним скрытым слоем с тем же количеством нейронов, что и у входов (784). Функция активации выпрямителя используется для нейронов в скрытом слое.\n",
        "\n",
        "Функция активации softmax используется на выходном слое для преобразования выходных значений в вероятностные значения и позволяет выбрать один класс из 10 в качестве выходного прогнозирования модели. Логарифмическая потеря используется как функция потерь (так называемая категориальная_кросентропия в Керасе), а эффективный алгоритм градиентного спуска ADAM используется для определения весов.\n",
        "\n",
        "Теперь мы можем подобрать и оценить модель. Модель подходит для 10 эпох с обновлениями каждые 200 изображений. Тестовые данные используются в качестве набора данных для проверки, что позволяет увидеть навыки модели во время ее обучения. Подробное значение 2 используется для уменьшения вывода до одной строки для каждой эпохи обучения.\n",
        "\n"
      ]
    },
    {
      "cell_type": "code",
      "metadata": {
        "id": "fFEnn1oSi-q5"
      },
      "source": [
        "# model = keras.Sequential([\n",
        "#     Flatten(input_shape=(28, 28, 1)), # входной слой / преобрахование картинки в одномерный вектор\n",
        "#     Dense(128, activation='relu'),    # добавление скрытого полносвязного слоя со 128 нейоранами\n",
        "#     Dense(10, activation='softmax')   # # добавление полносвязного слоя выхода\n",
        "# ])\n",
        "# print(model.summary())\n"
      ],
      "execution_count": 11,
      "outputs": []
    },
    {
      "cell_type": "code",
      "metadata": {
        "id": "4miQvti8wzjy"
      },
      "source": [
        "# функция основной модели нейронной сети\n",
        "def baseline_model():\n",
        "  # создание модели\n",
        "\tmodel = Sequential()\n",
        "\tmodel.add(Dense(num_pixels, input_dim=num_pixels, kernel_initializer='normal', activation='relu'))\n",
        "\tmodel.add(Dense(num_pixels, input_dim=128, kernel_initializer='normal', activation='sigmoid'))\n",
        "\tmodel.add(Dense(num_classes, kernel_initializer='normal', activation='softmax'))\n",
        "\t# # заполнение модели / выбор функция качества (потерь), метод оптимизациии, метрика\n",
        "\tmodel.compile(loss='categorical_crossentropy', optimizer='adam', metrics=['accuracy'])\n",
        "\treturn model\n"
      ],
      "execution_count": 12,
      "outputs": []
    },
    {
      "cell_type": "markdown",
      "metadata": {
        "id": "JB7pe_mPhY7w"
      },
      "source": [
        "Теперь мы можем обучим и оценим качество обученности модели."
      ]
    },
    {
      "cell_type": "code",
      "metadata": {
        "colab": {
          "base_uri": "https://localhost:8080/"
        },
        "id": "dIvwO44M5vMY",
        "outputId": "fd5f5db9-d2b2-443c-c6e9-080c1ed627db"
      },
      "source": [
        "# создаем модель\n",
        "model = baseline_model()\n",
        "print(model.summary()) # просматриваем структурау модели (сколько обучаемых параметров на каждом слое и сколько скрытых слоев)\n",
        "\n",
        "# обучаем модель\n",
        "model.fit(x_train, y_train, validation_data=(x_test, y_test), epochs=10, batch_size=200, verbose=2)\n",
        "\n",
        "# оценка модели в процентах\n",
        "scores = model.evaluate(x_test, y_test, verbose=0)\n",
        "print()\n",
        "print(\"Baseline Error: %.2f%%\" % (100-scores[1]*100))"
      ],
      "execution_count": 18,
      "outputs": [
        {
          "output_type": "stream",
          "text": [
            "Model: \"sequential_2\"\n",
            "_________________________________________________________________\n",
            "Layer (type)                 Output Shape              Param #   \n",
            "=================================================================\n",
            "dense_6 (Dense)              (None, 784)               615440    \n",
            "_________________________________________________________________\n",
            "dense_7 (Dense)              (None, 784)               615440    \n",
            "_________________________________________________________________\n",
            "dense_8 (Dense)              (None, 10)                7850      \n",
            "=================================================================\n",
            "Total params: 1,238,730\n",
            "Trainable params: 1,238,730\n",
            "Non-trainable params: 0\n",
            "_________________________________________________________________\n",
            "None\n",
            "Epoch 1/10\n",
            "300/300 - 9s - loss: 0.2820 - accuracy: 0.9179 - val_loss: 0.1287 - val_accuracy: 0.9605\n",
            "Epoch 2/10\n",
            "300/300 - 9s - loss: 0.0966 - accuracy: 0.9717 - val_loss: 0.0882 - val_accuracy: 0.9728\n",
            "Epoch 3/10\n",
            "300/300 - 9s - loss: 0.0592 - accuracy: 0.9819 - val_loss: 0.0684 - val_accuracy: 0.9782\n",
            "Epoch 4/10\n",
            "300/300 - 9s - loss: 0.0409 - accuracy: 0.9875 - val_loss: 0.0680 - val_accuracy: 0.9792\n",
            "Epoch 5/10\n",
            "300/300 - 9s - loss: 0.0268 - accuracy: 0.9919 - val_loss: 0.0619 - val_accuracy: 0.9814\n",
            "Epoch 6/10\n",
            "300/300 - 9s - loss: 0.0183 - accuracy: 0.9947 - val_loss: 0.0637 - val_accuracy: 0.9810\n",
            "Epoch 7/10\n",
            "300/300 - 9s - loss: 0.0148 - accuracy: 0.9955 - val_loss: 0.0605 - val_accuracy: 0.9827\n",
            "Epoch 8/10\n",
            "300/300 - 9s - loss: 0.0123 - accuracy: 0.9961 - val_loss: 0.0690 - val_accuracy: 0.9812\n",
            "Epoch 9/10\n",
            "300/300 - 9s - loss: 0.0072 - accuracy: 0.9980 - val_loss: 0.0796 - val_accuracy: 0.9772\n",
            "Epoch 10/10\n",
            "300/300 - 9s - loss: 0.0087 - accuracy: 0.9972 - val_loss: 0.0810 - val_accuracy: 0.9802\n",
            "\n",
            "Baseline Error: 1.98%\n"
          ],
          "name": "stdout"
        }
      ]
    },
    {
      "cell_type": "code",
      "metadata": {
        "id": "T_p_g6N15ipV"
      },
      "source": [
        "## Проверка влияния кол-ва эпох и размеров батчей на точнось нейросети\n",
        "\n",
        "# model_1 = baseline_model()\n",
        "# model_1.fit(x_train, y_train, validation_data=(x_test, y_test), epochs=5, batch_size=728, verbose=2)\n",
        "# scores = model.evaluate(x_test, y_test, verbose=0)\n",
        "# print(\"Baseline Error: %.2f%%\" % (100-scores[1]*100))"
      ],
      "execution_count": 14,
      "outputs": []
    },
    {
      "cell_type": "markdown",
      "metadata": {
        "id": "00MhdSiIh2JC"
      },
      "source": [
        "# Апробация результатов"
      ]
    },
    {
      "cell_type": "markdown",
      "metadata": {
        "id": "ZwG6LtpRh706"
      },
      "source": [
        "Ручная проверка: выбираем одино изображение из тестового множества, выводим его на его на экран, затем по дставлем его в обученную нейросеть и смотрим результаты предсказания."
      ]
    },
    {
      "cell_type": "code",
      "metadata": {
        "id": "3zK8n5ES-DQM",
        "colab": {
          "base_uri": "https://localhost:8080/",
          "height": 265
        },
        "outputId": "2c94a721-0088-4af9-8690-fe5aa09ad671"
      },
      "source": [
        "# демонстрация выборочного изображения\n",
        "\n",
        "number = rand.randint(0, 10000) # под каким индексом берем изображение\n",
        "plt.imshow(x_test[number].reshape((28, 28)), cmap=\"Greys\")\n",
        "plt.show()"
      ],
      "execution_count": 28,
      "outputs": [
        {
          "output_type": "display_data",
          "data": {
            "image/png": "[encoded data removed]",
            "text/plain": [
              "<Figure size 432x288 with 1 Axes>"
            ]
          },
          "metadata": {
            "tags": [],
            "needs_background": "light"
          }
        }
      ]
    },
    {
      "cell_type": "code",
      "metadata": {
        "colab": {
          "base_uri": "https://localhost:8080/"
        },
        "id": "sM9Clnd5oPeQ",
        "outputId": "cbd7f69e-f100-49f3-aa6e-416f0b1ad82e"
      },
      "source": [
        "img = np.expand_dims(x_test[number], axis=0)\n",
        "res = model.predict(img)\n",
        "print(\"это скорее всего цифра: \" + str(np.argmax(res)) + \", с вероятностью: \" + str(max(*res)))"
      ],
      "execution_count": 29,
      "outputs": [
        {
          "output_type": "stream",
          "text": [
            "это скорее всего цифра: 8, с вероятностью: 1.0\n"
          ],
          "name": "stdout"
        }
      ]
    }
  ]
}