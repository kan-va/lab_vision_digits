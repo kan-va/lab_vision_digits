{
  "nbformat": 4,
  "nbformat_minor": 0,
  "metadata": {
    "colab": {
      "name": "Task-digits.ipynb",
      "provenance": [],
      "collapsed_sections": [],
      "authorship_tag": "ABX9TyNdX0sBD1eQE4qNzhNQZKPc",
      "include_colab_link": true
    },
    "kernelspec": {
      "name": "python3",
      "display_name": "Python 3"
    }
  },
  "cells": [
    {
      "cell_type": "markdown",
      "metadata": {
        "id": "view-in-github",
        "colab_type": "text"
      },
      "source": [
        "<a href=\"https://colab.research.google.com/github/kan-va/lab_vision_digits/blob/main/Task_digits.ipynb\" target=\"_parent\"><img src=\"https://colab.research.google.com/assets/colab-badge.svg\" alt=\"Open In Colab\"/></a>"
      ]
    },
    {
      "cell_type": "markdown",
      "metadata": {
        "id": "xccXEvMNfTSo"
      },
      "source": [
        "# Лаборатоная работа по распознаванию рукописных цифр \n"
      ]
    },
    {
      "cell_type": "markdown",
      "metadata": {
        "id": "hJutq-DwhbFq"
      },
      "source": [
        "## Содержание:\n",
        "\n",
        "\n",
        "1.   Введение\n",
        "2.   Основные определения\n",
        "3.   Разведочный анализ данных (EDA)\n",
        "4.   Подготовка датасета\n",
        "5.   Создание и обучение нейросети\n",
        "6.   Апробация результатов"
      ]
    },
    {
      "cell_type": "markdown",
      "metadata": {
        "id": "Xv_R4jg2jMhY"
      },
      "source": [
        "## Введение\n",
        "\n"
      ]
    },
    {
      "cell_type": "markdown",
      "metadata": {
        "id": "EA9ZwG1fVfIx"
      },
      "source": [
        "В данной работе научимся создавать многослойные нейронные сети для распознавания рукописных цифр.\n",
        "\n",
        "MNIST - это набор данных, разработанный Янн ЛеКун, Коринной Кортес и Кристофером Берджесом для оценки моделей машинного обучения по задаче классификации рукописных цифр. Набор данных был составлен из нескольких наборов данных отсканированных документов, доступных из Национальный институт стандартов и технологий(NIST). Отсюда и название набора данных, например, модифицированный набор данных NIST или MNIST.\n",
        "\n",
        "официальный сайт http://yann.lecun.com/exdb/mnist/ где выложен дата сет MNIST, а так  представлены результаты обучаемых моделей.\n",
        "\n",
        "\n",
        "### Параметры датасета:\n",
        "Изображения цифр были взяты из различных отсканированных документов, нормализованы по размеру и центрированы. Это делает его отличным набором данных для оценки моделей, позволяя разработчику сосредоточиться на машинном обучении с минимальной очисткой или подготовкой данных.\n",
        "\n",
        "Каждое изображение представляет собой квадрат 28 x 28 пикселей. Стандартный набор данных используется для оценки и сравнения моделей, где 60 000 изображений используются для обучения модели, а отдельный набор из 10 000 изображений используется для ее проверки."
      ]
    },
    {
      "cell_type": "markdown",
      "metadata": {
        "id": "WconMloej4aj"
      },
      "source": [
        "## Основные определения\n"
      ]
    },
    {
      "cell_type": "markdown",
      "metadata": {
        "id": "d1p10nCLcvr7"
      },
      "source": [
        "### "
      ]
    },
    {
      "cell_type": "markdown",
      "metadata": {
        "id": "4x1VwqYcyxr7"
      },
      "source": [
        "[инструкция](https://colab.research.google.com/drive/1gQRDXVm4GFKJPhXfCp6uxoJ8FAHklstx#scrollTo=4x1VwqYcyxr7&line=1&uniqifier=1) подгрузки библиотек, которые не являются предустановленными в colab.google"
      ]
    },
    {
      "cell_type": "code",
      "metadata": {
        "id": "79tITCABzWP8"
      },
      "source": [
        "# !pip install pillow"
      ],
      "execution_count": null,
      "outputs": []
    },
    {
      "cell_type": "markdown",
      "metadata": {
        "id": "3nETgKtR1qT0"
      },
      "source": [
        "Библиотеки необходимы для сосздания нейронной сети."
      ]
    },
    {
      "cell_type": "code",
      "metadata": {
        "id": "5UPS6ap715bS"
      },
      "source": [
        "import tensorflow\n",
        "from tensorflow import keras\n",
        "from tensorflow.keras.datasets import mnist         # библиотека базы Mnist\n",
        "from tensorflow.keras.layers import Dense, Flatten, Dropout\n",
        "import matplotlib.pyplot as plt # \n",
        "import seaborn\n",
        "# import pandas as pd\n",
        "import numpy as np\n",
        "import random as rand\n",
        "\n",
        "from keras.models import Sequential\n",
        "from keras.utils import np_utils"
      ],
      "execution_count": null,
      "outputs": []
    },
    {
      "cell_type": "markdown",
      "metadata": {
        "id": "zh0iQ560kHkl"
      },
      "source": [
        "\n",
        "## Разведочный анализ данных (EDA)"
      ]
    },
    {
      "cell_type": "markdown",
      "metadata": {
        "id": "HThcsnxX4G1B"
      },
      "source": [
        "Подгрузим датасет mnist из библиотеки keras и убедимся что там лежит. \n",
        "\n",
        "x_train[i] - двумерный вектор изображения, \n",
        "\n",
        "y_train[i] - таргет, т.е. значение 0 - 9, соответсвующая цифре на изображении. \n",
        "\n",
        "(x_test, y_test) имеют аналогичную структуру."
      ]
    },
    {
      "cell_type": "code",
      "metadata": {
        "colab": {
          "base_uri": "https://localhost:8080/",
          "height": 421
        },
        "id": "xDk4s3hDEPFh",
        "outputId": "6b23f662-3f37-412b-caa9-0c0c3bcdf674"
      },
      "source": [
        "(x_train, y_train), (x_test, y_test) = mnist.load_data() \n",
        "len(mnist.load_data())\n",
        "index = [rand.randint(0, 60000) for i in range(20)] # выберем случайный образом 4 индекса\n",
        "print(\"number image\")\n",
        "pprint([(i, y_train[i])for i in index], compact=True) # выводим красиво значения индекса и y_train\n",
        "\n",
        "# отображение первых 20 изображений из обучающей выборки\n",
        "plt.figure(figsize=(10,7))\n",
        "for i in range(len(index)):\n",
        "    plt.subplot(5,5,i+1)\n",
        "    plt.xticks([]) # убрать ось Х\n",
        "    plt.yticks([]) # убрать ось У\n",
        "    plt.imshow(x_train[index[i]], cmap=plt.cm.binary) # cmap=plt.get_cmap('gray') - позволяет вывести в градиенте серого\n",
        "plt.show()\n",
        "\n"
      ],
      "execution_count": null,
      "outputs": [
        {
          "output_type": "stream",
          "text": [
            "number image\n",
            "[(33876, 5), (16488, 9), (35645, 7), (53062, 4), (14483, 5), (11114, 3),\n",
            " (43066, 5), (19461, 1), (32131, 0), (12179, 9), (9062, 5), (50058, 6),\n",
            " (34508, 0), (2010, 2), (51113, 7), (22073, 5), (26070, 1), (46792, 1),\n",
            " (41427, 2), (6523, 8)]\n"
          ],
          "name": "stdout"
        },
        {
          "output_type": "display_data",
          "data": {
            "image/png": "[encoded data removed]",
            "text/plain": [
              "<Figure size 720x504 with 20 Axes>"
            ]
          },
          "metadata": {
            "tags": []
          }
        }
      ]
    },
    {
      "cell_type": "code",
      "metadata": {
        "id": "iH29ozI_E4Zl"
      },
      "source": [
        "\n",
        "\n",
        "\n"
      ],
      "execution_count": null,
      "outputs": []
    },
    {
      "cell_type": "markdown",
      "metadata": {
        "id": "CklnFRVTWDoc"
      },
      "source": [
        "## Подготовка датасета"
      ]
    },
    {
      "cell_type": "markdown",
      "metadata": {
        "id": "TqZKx-pa3Ysd"
      },
      "source": [
        "Для полносвязного персептрона входные данные необходимо представить в виде вектора"
      ]
    },
    {
      "cell_type": "code",
      "metadata": {
        "id": "d23Q2eZJ1uFt"
      },
      "source": [
        "\n",
        "# # fix random seed for reproducibility\n",
        "# seed = 7\n",
        "# numpy.random.seed(seed)\n",
        "\n",
        "# преобразование изображение 28 х 28 в виде одномерного вектора\n",
        "num_pixels = x_train.shape[1] * x_train.shape[2] # получем размерность по вертикали и горизонтали\n",
        "x_train = x_train.reshape(x_train.shape[0], num_pixels).astype('float32')\n",
        "x_test = x_test.reshape(x_test.shape[0], num_pixels).astype('float32')\n",
        "\n",
        "# нормализуем значения 0 - 255 в 0 - 1\n",
        "x_train = x_train / 255\n",
        "x_test = x_test / 255"
      ],
      "execution_count": null,
      "outputs": []
    },
    {
      "cell_type": "markdown",
      "metadata": {
        "id": "S0endp_b4GN4"
      },
      "source": [
        "Подготовка выходных значений.\n",
        "\n",
        "Выходной переменной является целое число от 0 до 9. Это проблема классификации нескольких классов. Таким образом, эффективная практика состоит в том, чтобы использовать горячее кодирование значений класса, преобразовывая вектор целых чисел класса в двоичную матрицу, где каждое значение y_train, y_test представляется как вектор где на i-й позиции, которая сооствует значению цифры на изображении, ставится 1.\n",
        "\n",
        "\n",
        "Используем встроенную вспомогательную функцию np_utils.to_categorical () в Keras."
      ]
    },
    {
      "cell_type": "code",
      "metadata": {
        "id": "lm3bMUUS4T6N"
      },
      "source": [
        "y_train = np_utils.to_categorical(y_train)\n",
        "y_test = np_utils.to_categorical(y_test)\n",
        "num_classes = y_test.shape[1]"
      ],
      "execution_count": null,
      "outputs": []
    },
    {
      "cell_type": "code",
      "metadata": {
        "colab": {
          "base_uri": "https://localhost:8080/"
        },
        "id": "zDpo33AS67PF",
        "outputId": "45281900-99c8-4b21-d4de-82ecbd0f091b"
      },
      "source": [
        "print(y_test.shape)\n",
        "y_test"
      ],
      "execution_count": null,
      "outputs": [
        {
          "output_type": "stream",
          "text": [
            "(10000, 10)\n"
          ],
          "name": "stdout"
        },
        {
          "output_type": "execute_result",
          "data": {
            "text/plain": [
              "array([[0., 0., 0., ..., 1., 0., 0.],\n",
              "       [0., 0., 1., ..., 0., 0., 0.],\n",
              "       [0., 1., 0., ..., 0., 0., 0.],\n",
              "       ...,\n",
              "       [0., 0., 0., ..., 0., 0., 0.],\n",
              "       [0., 0., 0., ..., 0., 0., 0.],\n",
              "       [0., 0., 0., ..., 0., 0., 0.]], dtype=float32)"
            ]
          },
          "metadata": {
            "tags": []
          },
          "execution_count": 110
        }
      ]
    },
    {
      "cell_type": "markdown",
      "metadata": {
        "id": "KVVtdC9uWGvp"
      },
      "source": [
        "## Создание и обучение нейросети\n"
      ]
    },
    {
      "cell_type": "markdown",
      "metadata": {
        "id": "-LnWNKsQv_3D"
      },
      "source": [
        "### Полносвязный персептрон"
      ]
    },
    {
      "cell_type": "markdown",
      "metadata": {
        "id": "Ogbshnt25tfa"
      },
      "source": [
        "Модель представляет собой простую нейронную сеть с одним скрытым слоем с тем же количеством нейронов, что и у входов (784). Функция активации выпрямителя используется для нейронов в скрытом слое.\n",
        "\n",
        "Функция активации softmax используется на выходном слое для преобразования выходных значений в вероятностные значения и позволяет выбрать один класс из 10 в качестве выходного прогнозирования модели. Логарифмическая потеря используется как функция потерь (так называемая категориальная_кросентропия в Керасе), а эффективный алгоритм градиентного спуска ADAM используется для определения весов.\n",
        "\n",
        "Теперь мы можем подобрать и оценить модель. Модель подходит для 10 эпох с обновлениями каждые 200 изображений. Тестовые данные используются в качестве набора данных для проверки, что позволяет увидеть навыки модели во время ее обучения. Подробное значение 2 используется для уменьшения вывода до одной строки для каждой эпохи обучения.\n",
        "\n"
      ]
    },
    {
      "cell_type": "code",
      "metadata": {
        "id": "fFEnn1oSi-q5"
      },
      "source": [
        "# model = keras.Sequential([\n",
        "#     Flatten(input_shape=(28, 28, 1)), # входной слой / преобрахование картинки в одномерный вектор\n",
        "#     Dense(128, activation='relu'),    # добавление скрытого полносвязного слоя со 128 нейоранами\n",
        "#     Dense(10, activation='softmax')   # # добавление полносвязного слоя выхода\n",
        "# ])\n",
        "# print(model.summary())\n"
      ],
      "execution_count": null,
      "outputs": []
    },
    {
      "cell_type": "code",
      "metadata": {
        "id": "4miQvti8wzjy"
      },
      "source": [
        "# функция основной модели нейронной сети\n",
        "def baseline_model():\n",
        "  # создание модели\n",
        "\tmodel = Sequential()\n",
        "\tmodel.add(Dense(num_pixels, input_dim=num_pixels, kernel_initializer='normal', activation='relu'))\n",
        "\tmodel.add(Dense(num_pixels, input_dim=128, kernel_initializer='normal', activation='sigmoid'))\n",
        "\tmodel.add(Dense(num_classes, kernel_initializer='normal', activation='softmax'))\n",
        "\t# # заполнение модели / выбор функция качества (потерь), метод оптимизациии, метрика\n",
        "\tmodel.compile(loss='categorical_crossentropy', optimizer='adam', metrics=['accuracy'])\n",
        "\treturn model\n"
      ],
      "execution_count": null,
      "outputs": []
    },
    {
      "cell_type": "markdown",
      "metadata": {
        "id": "JB7pe_mPhY7w"
      },
      "source": [
        ""
      ]
    },
    {
      "cell_type": "code",
      "metadata": {
        "colab": {
          "base_uri": "https://localhost:8080/"
        },
        "id": "dIvwO44M5vMY",
        "outputId": "cb0f88e7-5e2f-4d79-fbb5-87a7ddeaa9f9"
      },
      "source": [
        "# build the model\n",
        "model = baseline_model()\n",
        "print(model.summary())\n",
        "\n",
        "# Fit the model\n",
        "model.fit(x_train, y_train, validation_data=(x_test, y_test), epochs=10, batch_size=200, verbose=2)\n",
        "# Final evaluation of the model\n",
        "scores = model.evaluate(x_test, y_test, verbose=0)\n",
        "print(\"Baseline Error: %.2f%%\" % (100-scores[1]*100))"
      ],
      "execution_count": null,
      "outputs": [
        {
          "output_type": "stream",
          "text": [
            "Model: \"sequential_19\"\n",
            "_________________________________________________________________\n",
            "Layer (type)                 Output Shape              Param #   \n",
            "=================================================================\n",
            "dense_48 (Dense)             (None, 784)               615440    \n",
            "_________________________________________________________________\n",
            "dense_49 (Dense)             (None, 784)               615440    \n",
            "_________________________________________________________________\n",
            "dense_50 (Dense)             (None, 10)                7850      \n",
            "=================================================================\n",
            "Total params: 1,238,730\n",
            "Trainable params: 1,238,730\n",
            "Non-trainable params: 0\n",
            "_________________________________________________________________\n",
            "None\n",
            "Epoch 1/10\n",
            "300/300 - 9s - loss: 0.2814 - accuracy: 0.9172 - val_loss: 0.1254 - val_accuracy: 0.9622\n",
            "Epoch 2/10\n",
            "300/300 - 9s - loss: 0.0972 - accuracy: 0.9706 - val_loss: 0.0848 - val_accuracy: 0.9735\n",
            "Epoch 3/10\n",
            "300/300 - 9s - loss: 0.0595 - accuracy: 0.9814 - val_loss: 0.0723 - val_accuracy: 0.9770\n",
            "Epoch 4/10\n",
            "300/300 - 9s - loss: 0.0403 - accuracy: 0.9874 - val_loss: 0.0696 - val_accuracy: 0.9783\n",
            "Epoch 5/10\n",
            "300/300 - 9s - loss: 0.0275 - accuracy: 0.9922 - val_loss: 0.0674 - val_accuracy: 0.9795\n",
            "Epoch 6/10\n",
            "300/300 - 9s - loss: 0.0216 - accuracy: 0.9930 - val_loss: 0.0699 - val_accuracy: 0.9791\n",
            "Epoch 7/10\n",
            "300/300 - 9s - loss: 0.0147 - accuracy: 0.9956 - val_loss: 0.0727 - val_accuracy: 0.9780\n",
            "Epoch 8/10\n",
            "300/300 - 9s - loss: 0.0101 - accuracy: 0.9973 - val_loss: 0.0671 - val_accuracy: 0.9820\n",
            "Epoch 9/10\n",
            "300/300 - 9s - loss: 0.0073 - accuracy: 0.9980 - val_loss: 0.0670 - val_accuracy: 0.9819\n",
            "Epoch 10/10\n",
            "300/300 - 9s - loss: 0.0107 - accuracy: 0.9966 - val_loss: 0.0801 - val_accuracy: 0.9798\n",
            "Baseline Error: 2.02%\n"
          ],
          "name": "stdout"
        }
      ]
    },
    {
      "cell_type": "code",
      "metadata": {
        "id": "T_p_g6N15ipV"
      },
      "source": [
        "## Проверка влияния кол-ва эпох и размеров батчей на точнось нейросети\n",
        "\n",
        "# model_1 = baseline_model()\n",
        "# model_1.fit(x_train, y_train, validation_data=(x_test, y_test), epochs=5, batch_size=728, verbose=2)\n",
        "# scores = model.evaluate(x_test, y_test, verbose=0)\n",
        "# print(\"Baseline Error: %.2f%%\" % (100-scores[1]*100))"
      ],
      "execution_count": null,
      "outputs": []
    },
    {
      "cell_type": "code",
      "metadata": {
        "id": "3zK8n5ES-DQM",
        "colab": {
          "base_uri": "https://localhost:8080/",
          "height": 316
        },
        "outputId": "56296600-71dd-4334-b8cb-b9801e43e189"
      },
      "source": [
        "print(scores)\n",
        "\n",
        "number = 10\n",
        "\n",
        "img = np.expand_dims(x_test[number], axis=0)\n",
        "res = model.predict(img)\n",
        "print(\"это скорее всего число: \" + str(np.argmax(res)) + \", с вероятностью: \" + str(max(*res) * 100))\n",
        "\n",
        "plt.imshow(x_test[number].reshape((28, 28)), cmap=\"Greys\")\n",
        "plt.show()\n",
        "print(y_test[number])"
      ],
      "execution_count": null,
      "outputs": [
        {
          "output_type": "stream",
          "text": [
            "[0.08007978647947311, 0.9797999858856201]\n",
            "это скорее всего число: 0, с вероятностью: 99.99998807907104\n"
          ],
          "name": "stdout"
        },
        {
          "output_type": "display_data",
          "data": {
            "image/png": "[encoded data removed]",
            "text/plain": [
              "<Figure size 432x288 with 1 Axes>"
            ]
          },
          "metadata": {
            "tags": [],
            "needs_background": "light"
          }
        },
        {
          "output_type": "stream",
          "text": [
            "[1. 0. 0. 0. 0. 0. 0. 0. 0. 0.]\n"
          ],
          "name": "stdout"
        }
      ]
    }
  ]
}