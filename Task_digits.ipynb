{
  "nbformat": 4,
  "nbformat_minor": 0,
  "metadata": {
    "colab": {
      "name": "Task-digits.ipynb",
      "provenance": [],
      "collapsed_sections": [],
      "authorship_tag": "ABX9TyNcfNjxLYmkR11xmTsPfcQY",
      "include_colab_link": true
    },
    "kernelspec": {
      "name": "python3",
      "display_name": "Python 3"
    }
  },
  "cells": [
    {
      "cell_type": "markdown",
      "metadata": {
        "id": "view-in-github",
        "colab_type": "text"
      },
      "source": [
        "<a href=\"https://colab.research.google.com/github/kan-va/lab_vision_digits/blob/main/Task_digits.ipynb\" target=\"_parent\"><img src=\"https://colab.research.google.com/assets/colab-badge.svg\" alt=\"Open In Colab\"/></a>"
      ]
    },
    {
      "cell_type": "markdown",
      "metadata": {
        "id": "xccXEvMNfTSo"
      },
      "source": [
        "# Лаборатоная работа по распознаванию рукописных цифр \n"
      ]
    },
    {
      "cell_type": "code",
      "metadata": {
        "colab": {
          "base_uri": "https://localhost:8080/"
        },
        "id": "6HHzdWToot0E",
        "outputId": "8c631039-2eb8-4787-df3a-60f488b00520"
      },
      "source": [
        "print(\"Hello student\")  # для запуска блока с кодом нажмите кобинацию клавиш shift + enter, \n",
        "                        # либо на треугольник, при наведении в левом верхнем углу блока кода "
      ],
      "execution_count": 1,
      "outputs": [
        {
          "output_type": "stream",
          "text": [
            "Hello student\n"
          ],
          "name": "stdout"
        }
      ]
    },
    {
      "cell_type": "markdown",
      "metadata": {
        "id": "hJutq-DwhbFq"
      },
      "source": [
        "## Содержание:\n",
        "\n",
        "\n",
        "1.   Введение\n",
        "2.   Основные определения / полезные материалы\n",
        "3.   Разведочный анализ данных (EDA)\n",
        "4. Полносвязная нейронная сеть    \n",
        "  *  Подготовка датасета\n",
        "  *  Создание и обучение нейросети\n",
        "  *  Апробация результатов\n",
        "5. Сверточная нейронная сеть (конволюционная)\n",
        "6. Задания"
      ]
    },
    {
      "cell_type": "markdown",
      "metadata": {
        "id": "Xv_R4jg2jMhY"
      },
      "source": [
        "## Введение\n",
        "\n"
      ]
    },
    {
      "cell_type": "markdown",
      "metadata": {
        "id": "EA9ZwG1fVfIx"
      },
      "source": [
        "В данной работе научимся создавать многослойные нейронные сети для распознавания рукописных цифр.\n",
        "\n",
        "MNIST - это набор данных, разработанный Янн ЛеКун, Коринной Кортес и Кристофером Берджесом для оценки моделей машинного обучения по задаче классификации рукописных цифр. Набор данных был составлен из нескольких наборов данных отсканированных документов, доступных из Национальный институт стандартов и технологий(NIST). Отсюда и название набора данных, например, модифицированный набор данных NIST или MNIST.\n",
        "\n",
        "официальный сайт http://yann.lecun.com/exdb/mnist/ где выложен дата сет MNIST, а так  представлены результаты обучаемых моделей.\n",
        "\n",
        "\n",
        "### Параметры датасета:\n",
        "Изображения цифр были взяты из различных отсканированных документов, нормализованы по размеру и центрированы. Это делает его отличным набором данных для оценки моделей, позволяя разработчику сосредоточиться на машинном обучении с минимальной очисткой или подготовкой данных.\n",
        "\n",
        "Каждое изображение представляет собой квадрат 28 x 28 пикселей. Стандартный набор данных используется для оценки и сравнения моделей, где 60 000 изображений используются для обучения модели, а отдельный набор из 10 000 изображений используется для ее проверки."
      ]
    },
    {
      "cell_type": "markdown",
      "metadata": {
        "id": "WconMloej4aj"
      },
      "source": [
        "## Основные определения / полезные материаллы\n"
      ]
    },
    {
      "cell_type": "markdown",
      "metadata": {
        "id": "d1p10nCLcvr7"
      },
      "source": [
        "#### Определения \n",
        "\n",
        "1. Batch - на маленькие партии из датасета\n",
        "2. Batch Size - Общее число тренировочных объектов, представленных в одном батче.\n",
        "3. Произошла одна эпоха (epoch) — весь датасет прошел через нейронную сеть в прямом и обратном направлении только один раз.\n",
        "4. Loss - \"лосс\" называют функцию потерь \n",
        "5. Итерации — число батчей, необходимых для завершения одной эпохи.\n"
      ]
    },
    {
      "cell_type": "markdown",
      "metadata": {
        "id": "MeQA9PgasKul"
      },
      "source": [
        "#### Дополнительные материалы\n",
        "\n",
        "1.   [Описание работы с полносвязным слоем в keras ](https://habr.com/ru/post/482126/)\n",
        "2.   [Инструкция](https://colab.research.google.com/drive/1gQRDXVm4GFKJPhXfCp6uxoJ8FAHklstx#scrollTo=4x1VwqYcyxr7&line=1&uniqifier=1) подгрузки библиотек, которые не являются предустановленными в colab.google\n",
        "\n",
        "\n",
        "```\n",
        "# !pip install pillow \n",
        "```\n",
        "\n",
        "\n",
        "3. Для чего нужен этап [ЕDA](https://chernobrovov.ru/articles/kak-naglyadno-pokazat-data-science-vizualizaciya-bolshih-dannyh.html) \n"
      ]
    },
    {
      "cell_type": "markdown",
      "metadata": {
        "id": "3nETgKtR1qT0"
      },
      "source": [
        "\n",
        "## Библиотеки необходимы для сосздания нейронной сети."
      ]
    },
    {
      "cell_type": "code",
      "metadata": {
        "id": "5UPS6ap715bS"
      },
      "source": [
        "import tensorflow as tf \n",
        "from tensorflow import keras\n",
        "\n",
        "from tensorflow.keras.datasets import mnist         # библиотека базы Mnist\n",
        "from tensorflow.keras.layers import Dense, Flatten, Dropout\n",
        "from keras.models import Sequential\n",
        "from keras.utils import np_utils\n",
        "\n",
        "\n",
        "\n",
        "import matplotlib.pyplot as plt # библиотка для визуализации данных\n",
        "import seaborn as sns # другая библиотка для визуализации данных\n",
        "# import pandas as pd\n",
        "import numpy as np # библиотека позволяющая работать с векторами и матрицами\n",
        "import random as rand\n",
        "from pprint import pprint\n",
        "\n"
      ],
      "execution_count": 2,
      "outputs": []
    },
    {
      "cell_type": "markdown",
      "metadata": {
        "id": "zh0iQ560kHkl"
      },
      "source": [
        "\n",
        "## Разведочный анализ данных (EDA)"
      ]
    },
    {
      "cell_type": "markdown",
      "metadata": {
        "id": "HThcsnxX4G1B"
      },
      "source": [
        "Подгрузим датасет mnist из библиотеки keras и убедимся что там лежит. \n",
        "\n",
        "x_train[i] - двумерный вектор изображения, \n",
        "\n",
        "y_train[i] - таргет, т.е. значение 0 - 9, соответсвующая цифре на изображении. \n",
        "\n",
        "(x_test, y_test) имеют аналогичную структуру."
      ]
    },
    {
      "cell_type": "code",
      "metadata": {
        "colab": {
          "base_uri": "https://localhost:8080/",
          "height": 421
        },
        "id": "xDk4s3hDEPFh",
        "outputId": "af6b1921-ffde-4509-c419-9da6eea585d2"
      },
      "source": [
        "(x_train, y_train), (x_test, y_test) = mnist.load_data() \n",
        "len(mnist.load_data())\n",
        "index = [rand.randint(0, 60000) for i in range(20)] # выберем случайный образом 4 индекса\n",
        "print(\"number image\")\n",
        "# pprint([(i, y_train[i])for i in index], compact=True) # выводим красиво значения индекса и y_train\n",
        "tmp_list = [(i, y_train[i])for i in index]  # выводим красиво значения индекса и y_train, но по 5 элементов в строке\n",
        "for k in range(4):\n",
        "  print(*tmp_list[k*5:k*5 + 5])\n",
        "\n",
        "\n",
        "# отображение первых 20 изображений из обучающей выборки\n",
        "plt.figure(figsize=(10,7))\n",
        "for i in range(len(index)):\n",
        "    plt.subplot(5,5,i+1)\n",
        "    plt.xticks([]) # убрать отрисовку оси Х\n",
        "    plt.yticks([]) # убрать отрисовку оси У\n",
        "    plt.imshow(x_train[index[i]], cmap=plt.cm.binary) # cmap=plt.get_cmap('gray') - позволяет вывести в градиенте серого\n",
        "plt.show()\n",
        "\n"
      ],
      "execution_count": 23,
      "outputs": [
        {
          "output_type": "stream",
          "text": [
            "number image\n",
            "(9695, 0) (16138, 7) (35459, 3) (13796, 5) (26096, 1)\n",
            "(24155, 7) (3788, 7) (18273, 0) (37767, 4) (2951, 8)\n",
            "(52995, 0) (6282, 3) (26028, 8) (34941, 7) (57379, 8)\n",
            "(21752, 6) (40167, 9) (30721, 1) (23394, 6) (1121, 3)\n"
          ],
          "name": "stdout"
        },
        {
          "output_type": "display_data",
          "data": {
            "image/png": "[encoded data removed]",
            "text/plain": [
              "<Figure size 720x504 with 20 Axes>"
            ]
          },
          "metadata": {
            "tags": []
          }
        }
      ]
    },
    {
      "cell_type": "markdown",
      "metadata": {
        "id": "Mf25Eh3jq2Qi"
      },
      "source": [
        "Проверяем распределение чисел в тенеровочной и валидационной выборке"
      ]
    },
    {
      "cell_type": "code",
      "metadata": {
        "colab": {
          "base_uri": "https://localhost:8080/",
          "height": 391
        },
        "id": "ReDHZmQWq2_S",
        "outputId": "a850846c-7260-4b98-a172-39ea53a9dc40"
      },
      "source": [
        "plt.figure(figsize=(16, 6))\n",
        "plt.subplot(1,2,1)\n",
        "sns.histplot(y_train, kde=False ) # гистограмма тренировочной выборки\n",
        "plt.subplot(1,2,2)\n",
        "sns.histplot(y_test, kde=False) # гистограмма валидационной выборки"
      ],
      "execution_count": 4,
      "outputs": [
        {
          "output_type": "execute_result",
          "data": {
            "text/plain": [
              "<matplotlib.axes._subplots.AxesSubplot at 0x7ff415acf6d8>"
            ]
          },
          "metadata": {
            "tags": []
          },
          "execution_count": 4
        },
        {
          "output_type": "display_data",
          "data": {
            "image/png": "[encoded data removed]",
            "text/plain": [
              "<Figure size 1152x432 with 2 Axes>"
            ]
          },
          "metadata": {
            "tags": [],
            "needs_background": "light"
          }
        }
      ]
    },
    {
      "cell_type": "markdown",
      "metadata": {
        "id": "CklnFRVTWDoc"
      },
      "source": [
        "## Подготовка датасета"
      ]
    },
    {
      "cell_type": "markdown",
      "metadata": {
        "id": "TqZKx-pa3Ysd"
      },
      "source": [
        "**Подготовка выходных значений**\n",
        "\n",
        "Для полносвязного персептрона входные данные необходимо представить в виде вектора, поэтому представим изобрадение как одномерный массив из 28*28 = 784 элементов\n"
      ]
    },
    {
      "cell_type": "code",
      "metadata": {
        "id": "d23Q2eZJ1uFt"
      },
      "source": [
        "# преобразование изображение 28 х 28 в виде одномерного вектора\n",
        "num_pixels = x_train.shape[1] * x_train.shape[2] # получем размерность по вертикали и горизонтали\n",
        "x_train = x_train.reshape(x_train.shape[0], num_pixels).astype('float32') \n",
        "x_test = x_test.reshape(x_test.shape[0], num_pixels).astype('float32')\n",
        "\n",
        "# нормализуем значения 0 - 255 в 0 - 1\n",
        "x_train = x_train / 255\n",
        "x_test = x_test / 255"
      ],
      "execution_count": 5,
      "outputs": []
    },
    {
      "cell_type": "markdown",
      "metadata": {
        "id": "S0endp_b4GN4"
      },
      "source": [
        "**Подготовка выходных значений**\n",
        "\n",
        "Выходной переменной является целое число от 0 до 9. Это проблема классификации нескольких классов. Таким образом, эффективная практика состоит в том, чтобы использовать горячее кодирование значений класса, преобразовывая вектор целых чисел класса в двоичную матрицу, где каждое значение y_train, y_test представляется как вектор где на i-й позиции, которая сооствует значению цифры на изображении, ставится 1.\n",
        "\n",
        "\n",
        "Используем встроенную вспомогательную функцию np_utils.to_categorical () в Keras."
      ]
    },
    {
      "cell_type": "code",
      "metadata": {
        "id": "lm3bMUUS4T6N"
      },
      "source": [
        "y_train = np_utils.to_categorical(y_train)\n",
        "y_test = np_utils.to_categorical(y_test)\n",
        "num_classes = y_test.shape[1]"
      ],
      "execution_count": 6,
      "outputs": []
    },
    {
      "cell_type": "code",
      "metadata": {
        "colab": {
          "base_uri": "https://localhost:8080/"
        },
        "id": "zDpo33AS67PF",
        "outputId": "f1732c0a-584d-4e47-898e-0101274e4afc"
      },
      "source": [
        "print(y_test.shape)\n",
        "y_test"
      ],
      "execution_count": 7,
      "outputs": [
        {
          "output_type": "stream",
          "text": [
            "(10000, 10)\n"
          ],
          "name": "stdout"
        },
        {
          "output_type": "execute_result",
          "data": {
            "text/plain": [
              "array([[0., 0., 0., ..., 1., 0., 0.],\n",
              "       [0., 0., 1., ..., 0., 0., 0.],\n",
              "       [0., 1., 0., ..., 0., 0., 0.],\n",
              "       ...,\n",
              "       [0., 0., 0., ..., 0., 0., 0.],\n",
              "       [0., 0., 0., ..., 0., 0., 0.],\n",
              "       [0., 0., 0., ..., 0., 0., 0.]], dtype=float32)"
            ]
          },
          "metadata": {
            "tags": []
          },
          "execution_count": 7
        }
      ]
    },
    {
      "cell_type": "markdown",
      "metadata": {
        "id": "KVVtdC9uWGvp"
      },
      "source": [
        "## Создание и обучение нейросети\n"
      ]
    },
    {
      "cell_type": "markdown",
      "metadata": {
        "id": "-LnWNKsQv_3D"
      },
      "source": [
        "### Полносвязный персептрон"
      ]
    },
    {
      "cell_type": "markdown",
      "metadata": {
        "id": "Ogbshnt25tfa"
      },
      "source": [
        "Модель представляет собой простую нейронную сеть с двумя скрытыми слоеми. Функции активации \"relu\", \"sigmoid\" используется для нейронов в скрытом слое.\n",
        "\n",
        "Функция активации softmax используется на выходном слое для преобразования выходных значений в вероятностные значения и позволяет выбрать один класс из 10 в качестве выходного прогнозирования модели. Логарифмическая потеря используется как функция потерь (так называемая категориальная_кросентропия в Керасе), а эффективный алгоритм градиентного спуска ADAM используется для определения весов.\n",
        "\n",
        "Теперь мы можем подобрать и оценить модель. Модель подходит для 10 эпох с обновлениями каждые 200 изображений. Тестовые данные используются в качестве набора данных для проверки, что позволяет увидеть навыки модели во время ее обучения.\n"
      ]
    },
    {
      "cell_type": "code",
      "metadata": {
        "id": "fFEnn1oSi-q5"
      },
      "source": [
        "# model = keras.Sequential([\n",
        "#     Flatten(input_shape=(28, 28, 1)), # входной слой / преобрахование картинки в одномерный вектор\n",
        "#     Dense(128, activation='relu'),    # добавление скрытого полносвязного слоя со 128 нейоранами\n",
        "#     Dense(10, activation='softmax')   # # добавление полносвязного слоя выхода\n",
        "# ])\n",
        "# print(model.summary())\n"
      ],
      "execution_count": 8,
      "outputs": []
    },
    {
      "cell_type": "code",
      "metadata": {
        "id": "4miQvti8wzjy"
      },
      "source": [
        "# функция основной модели нейронной сети\n",
        "def baseline_model():\n",
        "  # создание модели\n",
        "\tmodel = Sequential()\n",
        "\tmodel.add(Dense(num_pixels, input_dim=num_pixels, kernel_initializer='normal', activation='relu'))\n",
        "\tmodel.add(Dense(128, input_dim=128, kernel_initializer='normal', activation='sigmoid'))\n",
        "\tmodel.add(Dense(num_classes, kernel_initializer='normal', activation='softmax'))\n",
        "\t# # заполнение модели / выбор функция качества (потерь), метод оптимизациии, метрика\n",
        "\tmodel.compile(loss='categorical_crossentropy', optimizer='adam', metrics=['accuracy'])\n",
        "\treturn model\n"
      ],
      "execution_count": 9,
      "outputs": []
    },
    {
      "cell_type": "markdown",
      "metadata": {
        "id": "JB7pe_mPhY7w"
      },
      "source": [
        "Теперь мы можем обучим и оценим качество обученности модели."
      ]
    },
    {
      "cell_type": "code",
      "metadata": {
        "colab": {
          "base_uri": "https://localhost:8080/"
        },
        "id": "dIvwO44M5vMY",
        "outputId": "af15b58f-feb6-4be8-fabc-52e70cf6dc2f"
      },
      "source": [
        "# создаем модель\n",
        "model = baseline_model()\n",
        "print(model.summary()) # просматриваем структурау модели (сколько обучаемых параметров на каждом слое и сколько скрытых слоев)\n",
        "\n",
        "# обучаем модель\n",
        "model.fit(x_train, y_train, validation_data=(x_test, y_test), epochs=10, batch_size=200, verbose=2)\n",
        "\n",
        "# оценка модели в процентах\n",
        "scores = model.evaluate(x_test, y_test, verbose=0)\n",
        "print()\n",
        "print(\"Baseline Error: %.2f%%\" % (100-scores[1]*100))"
      ],
      "execution_count": 10,
      "outputs": [
        {
          "output_type": "stream",
          "text": [
            "Model: \"sequential\"\n",
            "_________________________________________________________________\n",
            "Layer (type)                 Output Shape              Param #   \n",
            "=================================================================\n",
            "dense (Dense)                (None, 784)               615440    \n",
            "_________________________________________________________________\n",
            "dense_1 (Dense)              (None, 128)               100480    \n",
            "_________________________________________________________________\n",
            "dense_2 (Dense)              (None, 10)                1290      \n",
            "=================================================================\n",
            "Total params: 717,210\n",
            "Trainable params: 717,210\n",
            "Non-trainable params: 0\n",
            "_________________________________________________________________\n",
            "None\n",
            "Epoch 1/10\n",
            "300/300 - 6s - loss: 0.4527 - accuracy: 0.8912 - val_loss: 0.1605 - val_accuracy: 0.9555\n",
            "Epoch 2/10\n",
            "300/300 - 5s - loss: 0.1262 - accuracy: 0.9640 - val_loss: 0.1044 - val_accuracy: 0.9702\n",
            "Epoch 3/10\n",
            "300/300 - 5s - loss: 0.0777 - accuracy: 0.9780 - val_loss: 0.0769 - val_accuracy: 0.9775\n",
            "Epoch 4/10\n",
            "300/300 - 5s - loss: 0.0529 - accuracy: 0.9850 - val_loss: 0.0680 - val_accuracy: 0.9788\n",
            "Epoch 5/10\n",
            "300/300 - 5s - loss: 0.0361 - accuracy: 0.9901 - val_loss: 0.0593 - val_accuracy: 0.9818\n",
            "Epoch 6/10\n",
            "300/300 - 5s - loss: 0.0252 - accuracy: 0.9933 - val_loss: 0.0584 - val_accuracy: 0.9818\n",
            "Epoch 7/10\n",
            "300/300 - 5s - loss: 0.0191 - accuracy: 0.9955 - val_loss: 0.0569 - val_accuracy: 0.9828\n",
            "Epoch 8/10\n",
            "300/300 - 5s - loss: 0.0132 - accuracy: 0.9968 - val_loss: 0.0564 - val_accuracy: 0.9823\n",
            "Epoch 9/10\n",
            "300/300 - 5s - loss: 0.0090 - accuracy: 0.9983 - val_loss: 0.0576 - val_accuracy: 0.9825\n",
            "Epoch 10/10\n",
            "300/300 - 5s - loss: 0.0074 - accuracy: 0.9986 - val_loss: 0.0553 - val_accuracy: 0.9842\n",
            "\n",
            "Baseline Error: 1.58%\n"
          ],
          "name": "stdout"
        }
      ]
    },
    {
      "cell_type": "code",
      "metadata": {
        "id": "T_p_g6N15ipV"
      },
      "source": [
        "## Проверка влияния кол-ва эпох и размеров батчей на точнось нейросети\n",
        "\n",
        "# model_1 = baseline_model()\n",
        "# model_1.fit(x_train, y_train, validation_data=(x_test, y_test), epochs=5, batch_size=728, verbose=2)\n",
        "# scores = model.evaluate(x_test, y_test, verbose=0)\n",
        "# print(\"Baseline Error: %.2f%%\" % (100-scores[1]*100))"
      ],
      "execution_count": 11,
      "outputs": []
    },
    {
      "cell_type": "markdown",
      "metadata": {
        "id": "00MhdSiIh2JC"
      },
      "source": [
        "# Апробация результатов"
      ]
    },
    {
      "cell_type": "markdown",
      "metadata": {
        "id": "ZwG6LtpRh706"
      },
      "source": [
        "Ручная проверка: выбираем одино изображение из тестового множества, выводим его на его на экран, затем по дставлем его в обученную нейросеть и смотрим результаты предсказания."
      ]
    },
    {
      "cell_type": "code",
      "metadata": {
        "id": "3zK8n5ES-DQM",
        "colab": {
          "base_uri": "https://localhost:8080/",
          "height": 265
        },
        "outputId": "a447de70-32a8-4ebb-9107-41055b36aac9"
      },
      "source": [
        "# демонстрация выборочного изображения\n",
        "\n",
        "number = rand.randint(0, 10000) # под каким индексом берем изображение\n",
        "plt.imshow(x_test[number].reshape((28, 28)), cmap=\"Greys\")\n",
        "plt.show()"
      ],
      "execution_count": 12,
      "outputs": [
        {
          "output_type": "display_data",
          "data": {
            "image/png": "[encoded data removed]",
            "text/plain": [
              "<Figure size 432x288 with 1 Axes>"
            ]
          },
          "metadata": {
            "tags": [],
            "needs_background": "light"
          }
        }
      ]
    },
    {
      "cell_type": "code",
      "metadata": {
        "colab": {
          "base_uri": "https://localhost:8080/"
        },
        "id": "sM9Clnd5oPeQ",
        "outputId": "f7f442a2-27ab-4d4c-af26-e53776e64abc"
      },
      "source": [
        "img = np.expand_dims(x_test[number], axis=0)\n",
        "res = model.predict(img)\n",
        "print(\"это скорее всего цифра: \" + str(np.argmax(res)) + \", с вероятностью: \" + str(max(*res)))"
      ],
      "execution_count": 13,
      "outputs": [
        {
          "output_type": "stream",
          "text": [
            "это скорее всего цифра: 6, с вероятностью: 0.9999666\n"
          ],
          "name": "stdout"
        }
      ]
    },
    {
      "cell_type": "code",
      "metadata": {
        "id": "TNQVcObO8lIo"
      },
      "source": [
        ""
      ],
      "execution_count": 13,
      "outputs": []
    }
  ]
}